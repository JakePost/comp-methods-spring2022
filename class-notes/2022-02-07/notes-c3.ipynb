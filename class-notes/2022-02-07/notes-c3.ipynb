{
 "cells": [
  {
   "cell_type": "markdown",
   "metadata": {
    "collapsed": true,
    "pycharm": {
     "name": "#%% md\n"
    }
   },
   "source": [
    "# Class Meeting 3\n",
    "### 2022-02-07"
   ]
  },
  {
   "cell_type": "markdown",
   "source": [
    "## Package Management\n",
    "\n",
    "* The thousands of packages available in Python is one of the language's greatest strength.\n",
    "* However, it can be very hard to keep track of them. People constantly update them so they need to be updated locally.\n",
    "* A package management system is code that helps you with this, ```conda``` and ```pip``` are both package management systems.\n",
    "\n",
    "\n",
    "### Conda\n",
    "\n",
    "Conda is a way to add and manage the packages in your python distro. Some useful commands:\n",
    "\n",
    "```% conda list [name]```\n",
    "* lists the package name if installed \\[or all packages installed\\]\n",
    "\n",
    "```% conda search name```\n",
    "* searches for packages with this name\n",
    "\n",
    "```% conda install name```\n",
    "* installs the package by name\n",
    "\n",
    "```% conda update name```\n",
    "* updates the package by name\n",
    "\n",
    "\n",
    "### Channels\n",
    "\n",
    "* The anaconda team maintains the default channel for you conda installation. However, you may find that you want some package that is not included in the default installation.\n",
    "* There are other channels that you can use to find packages, the most common alternative to default is conda-forge. This channel tries to get updates out faster and new packages into the channel quicker.\n",
    "* To search or install a package from a different channel use ```-c conda forge``` after the command.\n",
    "* If you only install a few packages from a different channel you will probably be all right, but the more you do the more likely this will cause problems, if you really want to use conda-forge you set it as your default channel, If you do that also set your ```channel_priority``` to strict.\n",
    "\n",
    "```conda cnofig --add channels conda-forge```\n",
    "```conda config --set channel_priority strict```\n",
    "\n",
    "\n",
    "### PIP\n",
    "\n",
    "* AN alternative package manager is pip. Pip is only for python and has a somewhat larger selection of packages. However, pip doesn't know about conda while conda knows about pip. So I tend to try conda first and then us epip if conda doesn't work.\n",
    "* Pip has similar commands but slightly different\n",
    "\n",
    "```pip freeze```\n",
    "```pip serach name```\n",
    "```pip install name ```\n",
    "```pip install --upgrade name```"
   ],
   "metadata": {
    "collapsed": false
   }
  },
  {
   "cell_type": "markdown",
   "source": [
    "## Accuracy and Speed\n",
    "\n",
    "* There are two main considerations for most computer algorithm which are often in tension with each other; accuracy and speed.\n",
    "* __Accuracy__ refers to how close the computed number is to what one would get analytically when possible or compared to a more accurate calculation if possible.\n",
    "* __Speed__ refers to the time (or CPU time) it takes to perform the calculations.\n",
    "* Usually accuracy and speed are in conflict in that you could perform a more accurate calculation, but it would take loner, and you can get a faster calculation in less time.\n",
    "\n",
    "### Machine Precision\n",
    "\n",
    "* Floats are stored on a computer using a fixed number of bits. Bits are either 0 or 1. If we write a number in scientific nation there are three parts:\n",
    "$base 10 - 6.626 \\times 10^{-26}$\n",
    "\n",
    "* The sign, the exponent and what is called the significant. A float has the same three parts, but now they are only 0 or 1.\n",
    "$base 2 -.101101 \\times 2^{-101}$\n",
    "\n",
    "* Single Precision:\n",
    "-- Sign: 1 bit; exponent: 8 bits; significant: 24 bits (23 stored) = 32 bits"
   ],
   "metadata": {
    "collapsed": false
   }
  },
  {
   "cell_type": "code",
   "execution_count": 1,
   "outputs": [
    {
     "name": "stdout",
     "output_type": "stream",
     "text": [
      "2.220446049250313e-16\n"
     ]
    }
   ],
   "source": [
    "# Find the machine precision of your computer\n",
    "import cmath\n",
    "\n",
    "x = 1.0\n",
    "eps = 1.0\n",
    "\n",
    "while not x + eps == x:\n",
    "    eps = 0.5 * eps\n",
    "\n",
    "print(2 * eps)\n",
    "\n",
    "# This code will stop when adding eps to x doesn't change the value of x."
   ],
   "metadata": {
    "collapsed": false,
    "pycharm": {
     "name": "#%%\n"
    }
   }
  },
  {
   "cell_type": "markdown",
   "source": [
    "### Overflow / Underflow Errors\n",
    "* The computer uses a finite number of bytes to represent a number. This means there is a biggest possible floating point number the computer can represent.\n",
    "* In python the is about $10^{308}$. If we tried to do ```y-10*1e308``` in Python, the value of y would be set to inf. This si called an overflow error.\n",
    "* There is also a smallest possible float on the computer. If you try to make a float smaller than this value it will be set to 0.0, and you will get an underflow error.\n",
    "* In most languages integers also have a maximum value, which is why there are many types of integer variables. Python simply allocates more memory to store an integer, until you run out of memory.\n",
    "\n",
    "### Accuracy - Rounding Error\n",
    "* A finite number of bytes means that the value of floats can not be kept with infinite accuracy. the value of $\\pi$ has been determined to billions of digits of accuracy, but the computer will use a truncated value of $\\pi$ with as many digits as it uses to hold any float value.\n",
    "* Since the computer stores a number in binary, it won't even necessarily store the same value as you enter for a float.\n",
    "* You should never check for a float's exact number."
   ],
   "metadata": {
    "collapsed": false
   }
  },
  {
   "cell_type": "code",
   "execution_count": 2,
   "outputs": [
    {
     "name": "stdout",
     "output_type": "stream",
     "text": [
      "<class 'float'>\n",
      "        0.10000000000000000555\n"
     ]
    },
    {
     "data": {
      "text/plain": "sys.float_info(max=1.7976931348623157e+308, max_exp=1024, max_10_exp=308, min=2.2250738585072014e-308, min_exp=-1021, min_10_exp=-307, dig=15, mant_dig=53, epsilon=2.220446049250313e-16, radix=2, rounds=1)"
     },
     "execution_count": 2,
     "metadata": {},
     "output_type": "execute_result"
    }
   ],
   "source": [
    "import sys\n",
    "\n",
    "# 0.1 is not represented exactly in binary\n",
    "\n",
    "b = 0.1\n",
    "\n",
    "print(type(b))\n",
    "print(\"{:30.20}\".format(b))\n",
    "\n",
    "sys.float_info"
   ],
   "metadata": {
    "collapsed": false,
    "pycharm": {
     "name": "#%%\n"
    }
   }
  },
  {
   "cell_type": "markdown",
   "source": [
    "* It's usually a good assumption to consider the error to be a random number with standard deviation $\\sigma = Cx$, where $C$ is called the error constant and is $10^{-16}$ in Python."
   ],
   "metadata": {
    "collapsed": false
   }
  },
  {
   "cell_type": "code",
   "execution_count": 4,
   "outputs": [
    {
     "name": "stdout",
     "output_type": "stream",
     "text": [
      "1.4210854715202004\n",
      "1.4142135623730951\n"
     ]
    }
   ],
   "source": [
    "import math\n",
    "import numpy as np\n",
    "\n",
    "# Difference of two numbers\n",
    "\n",
    "x = 1\n",
    "y = 1 + (10 ** -14) * math.sqrt(2)\n",
    "print(1e14 * (y - x))\n",
    "print(np.sqrt(2))"
   ],
   "metadata": {
    "collapsed": false,
    "pycharm": {
     "name": "#%%\n"
    }
   }
  },
  {
   "cell_type": "markdown",
   "source": [
    "* Subtraction can lead to answers that are wildly incorrect."
   ],
   "metadata": {
    "collapsed": false
   }
  },
  {
   "cell_type": "code",
   "execution_count": 26,
   "outputs": [
    {
     "name": "stdout",
     "output_type": "stream",
     "text": [
      "1000.4999999999891\n"
     ]
    }
   ],
   "source": [
    "# Quantum harmonic Oscillator\n",
    "# Let's write a program to solve the average energy in a quantum harmonic oscillator which has energy levels E_n = hf(n + 1/2)\n",
    "\n",
    "hf = 1\n",
    "beta = 0.01\n",
    "\n",
    "\n",
    "def energy(n: int) -> float:\n",
    "    return hf * (n + 1 / 2)\n",
    "\n",
    "\n",
    "def normal_factor(n: int) -> float:\n",
    "    z = 0\n",
    "\n",
    "    for i in range(0, n):\n",
    "        z += np.exp(-beta * energy(n))\n",
    "\n",
    "    return z\n",
    "\n",
    "\n",
    "def avg_energy(n: int) -> float:\n",
    "    avg_e = 0\n",
    "\n",
    "    for i in range(0, n):\n",
    "        avg_e += energy(n) * np.exp(-beta * energy(n))\n",
    "\n",
    "    return avg_e / normal_factor(n)\n",
    "\n",
    "\n",
    "print(avg_energy(1000))\n",
    "\n"
   ],
   "metadata": {
    "collapsed": false,
    "pycharm": {
     "name": "#%%\n"
    }
   }
  }
 ],
 "metadata": {
  "kernelspec": {
   "display_name": "Python 3",
   "language": "python",
   "name": "python3"
  },
  "language_info": {
   "codemirror_mode": {
    "name": "ipython",
    "version": 2
   },
   "file_extension": ".py",
   "mimetype": "text/x-python",
   "name": "python",
   "nbconvert_exporter": "python",
   "pygments_lexer": "ipython2",
   "version": "2.7.6"
  }
 },
 "nbformat": 4,
 "nbformat_minor": 0
}