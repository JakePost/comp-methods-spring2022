{
 "cells": [
  {
   "cell_type": "markdown",
   "metadata": {
    "collapsed": true,
    "pycharm": {
     "name": "#%% md\n"
    }
   },
   "source": [
    "# Class Meeting 12\n",
    "### 2022-03-14"
   ]
  },
  {
   "cell_type": "markdown",
   "source": [
    "### Secant Method\n",
    "\n",
    "As mentioned earlier one of the problems with Newton's method is that we ahve to be able to calculate the derivative.\n",
    "\n",
    "If we have an analytic expression for the function that is straight forward, but if the values come from an experiment or a numerical calculation we won't have an analytic expression.\n",
    "\n",
    "In that case we can always take a numerical derivative. In fact to be efficient we cna just use two of our guesses for the root and take an numerical derivative between them.\n",
    "\n",
    "### Newton's Method for two or more variables\n",
    "\n",
    "Newton's method can also be used to solve systems of nonlinear equations with N equations and N variables.\n",
    "\n",
    "Combine into an NxN matrix and solve via guassian elimination and find the gradient at some point, this is the direction you go in for the next iteration of newton's method.\n",
    "\n",
    "### Maxima and Minima\n",
    "\n",
    "Closely related to the problem of finding roots is the problem of finding maxim and minima of a function.\n",
    "\n",
    "Functions can have local and global minima.\n",
    "\n",
    "If we have a function f(x1, x2, ... ) and we take its derivatives then solve df/dx_i = 0 for all i, we will get the maxima and minima.\n",
    "\n",
    "Of course this is exactly what we have been doing, so we could use any of the methods discussed so far.\n",
    "\n",
    "### Golden Ratio Search\n",
    "\n",
    "A method to find a minima without derivatives, it is similar to bisection, but we use four un-evely spaced points.\n",
    "\n",
    "Suppose at least one of f(x2) or f(x3) is less than f(x1) and f(x4). Then we know there must be a minima between x1 and x4.\n",
    "\n",
    "If f(x2) is less than f(x3) we know the minimum lies between x1 and x3.\n",
    "\n",
    "We can now choose a new points between them and narrow our range for the minimum.\n",
    "\n",
    "How should we choose where to put our points?\n",
    "\n",
    "x2 and a3 should be symmetric around the center of x1 and x4 since we don't know on which side of the minimum it will land.\n",
    "\n",
    "In order to make the method as efficient as possible, we want the range in which the minimum is located to decrease as quickly as possible. If we choose x2 and x3 close ot the center then it makes this more efficient.\n",
    "\n",
    "### Gauss-Newton Method\n",
    "\n",
    "The goldne ration method sufferes from the same issues as bisection. You have to bracket the maximum/minimum to find it and it only works for single variables.\n",
    "\n",
    "An alternative approach is to use f'(x) = - and look for its roots. If we use newton's method to find the roots then we have\n",
    "<br>\n",
    "$x'=x-\\frac{f'(x)}{f''(x)}$\n",
    "<br>\n",
    "\n",
    "### Gradient Descent\n",
    "\n",
    "However, it is often the case that it will not be possible to evaluate the second derivative of our function, It turns out that just using a constant y as a rough guess of 1/f''(x) works in very well in practice. This is called gradient descent, where we advance based only on the first derivative.\n",
    "\n",
    "This method depends on a good guess for y, if this is too small then you will converge very slowly. If it is too big you will overshoot the solution. In cases where you can't evaluate the first derivative you can use a numerical approximation.\n",
    "\n"
   ],
   "metadata": {
    "collapsed": false,
    "pycharm": {
     "name": "#%% md\n"
    }
   }
  },
  {
   "cell_type": "markdown",
   "source": [
    "## Fourier Transforms\n",
    "\n",
    "Fourier transforms are a basic tool of pysics and mathematics. It is also an important approach for certain numerical problems.\n",
    "\n",
    "Fourier transforms allow us to break down functions or signals into their component parts and analyze, smooth or filter them, and it gives us a way to rapidly perform certain types of calculations and solve certain differential equations.\n",
    "\n"
   ],
   "metadata": {
    "collapsed": false
   }
  },
  {
   "cell_type": "code",
   "execution_count": null,
   "outputs": [],
   "source": [],
   "metadata": {
    "collapsed": false,
    "pycharm": {
     "name": "#%%\n"
    }
   }
  }
 ],
 "metadata": {
  "kernelspec": {
   "display_name": "Python 3",
   "language": "python",
   "name": "python3"
  },
  "language_info": {
   "codemirror_mode": {
    "name": "ipython",
    "version": 2
   },
   "file_extension": ".py",
   "mimetype": "text/x-python",
   "name": "python",
   "nbconvert_exporter": "python",
   "pygments_lexer": "ipython2",
   "version": "2.7.6"
  }
 },
 "nbformat": 4,
 "nbformat_minor": 0
}