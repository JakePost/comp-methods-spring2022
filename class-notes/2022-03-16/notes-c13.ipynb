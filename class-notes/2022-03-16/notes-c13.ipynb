{
 "cells": [
  {
   "cell_type": "markdown",
   "metadata": {
    "collapsed": true,
    "pycharm": {
     "name": "#%% md\n"
    }
   },
   "source": [
    "# Class Meeting 13\n",
    "### 2022-03-16"
   ]
  },
  {
   "cell_type": "markdown",
   "source": [
    "### Fast Fourier Transform\n",
    "\n",
    "The fast Fourier transform (FFT) is simplest when the number of sample points is a power of two. So lets consider $N = 2^m$\n",
    "\n",
    "We can break the sum of the DFT into a sum over even n and a sum over odd n. This uses half the points.\n",
    "\n",
    "The Fourier coefficients can be expressed as $c_k = E_k + e^{-i 2 \\pi k / N} Q_k$\n",
    "\n",
    "The coefficients are given by the sum of the two coefficients determined from a Fourier transforms with half as many points. Plus a term called a *twiddle factor*\n",
    "\n",
    "But $E_k$ and $Q_k$ can just be expressed as the sum of two other Fourier transforms."
   ],
   "metadata": {
    "collapsed": false
   }
  },
  {
   "cell_type": "markdown",
   "source": [
    "## Random Processes\n",
    "\n",
    "In physics, we often need to make use of random numbers. To do so on the computer we can use a random number generator.\n",
    "\n",
    "However, a computer has no means of actually picking random numbers.\n",
    "\n",
    "Consider the following equation: $x' = (ax + c) \\ mod \\ m$\n",
    "\n",
    "We can generate sudo random number by passing in some constants.\n",
    "\n",
    "This is called *linear congruential random number generator*. It is the most famous of the \"random number generators.\"\n",
    "\n",
    "It is obviously not random, since each value of x' follows deterministically from the previous value of x. If you run the program twice, it will produce identical results.\n",
    "\n",
    "This produces values between 0 and m - 1. If we want a different range, say 0 to 1, we cna divide by m.\n",
    "\n",
    "While the value of a, c, and m seem random, they have been specifically chosen.\n",
    "\n",
    "The original number x, used to start the processes, is called the random seed.\n",
    "\n"
   ],
   "metadata": {
    "collapsed": false
   }
  },
  {
   "cell_type": "code",
   "execution_count": null,
   "outputs": [],
   "source": [],
   "metadata": {
    "collapsed": false,
    "pycharm": {
     "name": "#%%\n"
    }
   }
  }
 ],
 "metadata": {
  "kernelspec": {
   "display_name": "Python 3",
   "language": "python",
   "name": "python3"
  },
  "language_info": {
   "codemirror_mode": {
    "name": "ipython",
    "version": 2
   },
   "file_extension": ".py",
   "mimetype": "text/x-python",
   "name": "python",
   "nbconvert_exporter": "python",
   "pygments_lexer": "ipython2",
   "version": "2.7.6"
  }
 },
 "nbformat": 4,
 "nbformat_minor": 0
}