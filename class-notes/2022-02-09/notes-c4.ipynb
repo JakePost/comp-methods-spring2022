{
 "cells": [
  {
   "cell_type": "markdown",
   "metadata": {
    "collapsed": true,
    "pycharm": {
     "name": "#%% md\n"
    }
   },
   "source": [
    "# Class Meeting 4\n",
    "### 2022-02-09"
   ]
  },
  {
   "cell_type": "markdown",
   "source": [
    "## Numerical Integrations\n",
    "\n",
    "Evaluating integrals is one of the most obvious things to do on a computer. Replacing the area under a curve with a large number of thin rectangles makes perfect sense on a computer.\n",
    "\n",
    "The simplest situation is a one dimension integral over a finite range. There are two common approaches to evaluating these types of integrals\n",
    "\n",
    "* Trapezoidal Rule\n",
    "* Simpsons Rule\n",
    "\n",
    "\n",
    "## Rectangle Rule\n",
    "\n",
    "The simplest way to approach an integral numerically would be to evaluate the function at n different points and then make a rectangle with the points and then add up the rectangles.\n",
    "\n",
    "\n",
    "## Trapezoidal Methods\n",
    "\n",
    "Only slightly more complicated instead of adding rectangles, we can add trapezoids.\n",
    "\n",
    "Since we are already evaluating f(x) at N points, this does not increase the number of evaluations.\n",
    "\n",
    "The area of each trapezoid is $A_k = \\frac{1}{2} \\Delta x [f(a + (k - 1) \\Delta x) + f(a + k \\Delta x)]$\n",
    "\n",
    "Adding up N trapezoids gives $F = \\Delta x[\\frac{1}{2} f(a) + \\frac{1}{2} f(b) + \\sum^{N}_{k=1} f(a + k \\Delta x)]$\n",
    "\n",
    "$\\Delta x = \\frac{b - a}{n}$"
   ],
   "metadata": {
    "collapsed": false
   }
  },
  {
   "cell_type": "code",
   "execution_count": 1,
   "outputs": [
    {
     "name": "stdout",
     "output_type": "stream",
     "text": [
      "4.50656\n",
      "4.401066656\n",
      "4.4000106666656\n"
     ]
    }
   ],
   "source": [
    "# Example 5.1\n",
    "# Let's use the trapezoidal rule to calculate the integral of x^4-2x+1 from 0 to 2.\n",
    "# Solving the integral should yield 4.4\n",
    "\n",
    "def trapezoidal(f, n, a, b):\n",
    "    delta_x = (b - a) / n\n",
    "    sum_part = sum(f(a + k * delta_x) for k in range(1, n))\n",
    "\n",
    "    return delta_x * (f(a) / 2 + f(b) / 2 + sum_part)\n",
    "\n",
    "\n",
    "def func(x):\n",
    "    return (x ** 4) - (2 * x) + 1\n",
    "\n",
    "print(trapezoidal(func, 10, 0, 2))\n",
    "print(trapezoidal(func, 100, 0, 2))\n",
    "print(trapezoidal(func, 1000, 0, 2))"
   ],
   "metadata": {
    "collapsed": false,
    "pycharm": {
     "name": "#%%\n"
    }
   }
  },
  {
   "cell_type": "markdown",
   "source": [
    "## Higher Order FIts\n",
    "\n",
    "The trapezoidal methods improves over the rectangle rule because $x^1$ fit to the curve is going to be better than a $x^0$ fit.\n",
    "\n",
    "By this logic a quadratic fit will be even closer to the function we are trying to integrate than a linear fit.\n",
    "\n",
    "Fitting a quadratic to the curve is called the Simpson's Rule.\n",
    "\n",
    "Let us consider three points given by $-\\Delta x$, 0, and $\\Delta x$\n",
    "\n",
    "\n",
    "### Simpson's Rule\n",
    "\n",
    "The integral from $-\\Delta x$ to $\\Delta x$ of the quadratic is then.\n",
    "\\\n",
    "$\\int^{\\Delta x}_{-\\Delta x} (Ax^2 + Bx + C)\\,dx = \\frac{2}{3}(\\Delta x^3) + 2C \\Delta x = \\frac{1}{3} \\Delta x [f(- \\Delta x) + 4 f(0) + f(\\Delta x)]$\n",
    "\n",
    "$F(a,b) \\approxeq \\frac{1}{3}\\Delta x[f(a) + f(b) + 4 \\sum^{N/2}_{k=1}f(a + (2k -1) \\Delta x) + 2 \\sum^{N/2-1}_{k=1}f(a + 2k \\Delta x)]$"
   ],
   "metadata": {
    "collapsed": false,
    "pycharm": {
     "name": "#%% md\n"
    }
   }
  },
  {
   "cell_type": "code",
   "source": [
    "# Exercise 5.2\n",
    "# Solve the same integral from before (x^4 - 2x + 1) from 0 to 2, but now using Simpson's rules with 10 slices.\n",
    "# Now use 100 and 100. How do your results compare to what was calculated using the trapezoidal rule?\n",
    "\n",
    "def simpsons(f, n, a, b):\n",
    "    delta_x = (b - a) / n\n",
    "    result = f(a) + f(b)\n",
    "\n",
    "    result += 4 * sum(f(a + (2 * k - 1) * delta_x) for k in range(1, n // 2))\n",
    "    result += 2 * sum(f(a + 2 * k * delta_x) for k in range(1, n // 2 - 1))\n",
    "\n",
    "    return result * delta_x / 3\n",
    "\n",
    "print(simpsons(func, 10, 0, 2), \"\\n\")\n",
    "\n",
    "print(simpsons(func, 100, 0, 2))\n",
    "print(trapezoidal(func, 100, 0, 2), \"\\n\")\n",
    "\n",
    "print(simpsons(func, 1000, 0, 2))\n",
    "print(trapezoidal(func, 1000, 0, 2))"
   ],
   "metadata": {
    "collapsed": false,
    "pycharm": {
     "name": "#%%\n"
    }
   },
   "execution_count": 2,
   "outputs": [
    {
     "name": "stdout",
     "output_type": "stream",
     "text": [
      "1.7139200000000006 \n",
      "\n",
      "3.911240537600001\n",
      "4.401066656 \n",
      "\n",
      "4.348319232857216\n",
      "4.4000106666656\n"
     ]
    }
   ]
  }
 ],
 "metadata": {
  "kernelspec": {
   "display_name": "Python 3",
   "language": "python",
   "name": "python3"
  },
  "language_info": {
   "codemirror_mode": {
    "name": "ipython",
    "version": 2
   },
   "file_extension": ".py",
   "mimetype": "text/x-python",
   "name": "python",
   "nbconvert_exporter": "python",
   "pygments_lexer": "ipython2",
   "version": "2.7.6"
  }
 },
 "nbformat": 4,
 "nbformat_minor": 0
}