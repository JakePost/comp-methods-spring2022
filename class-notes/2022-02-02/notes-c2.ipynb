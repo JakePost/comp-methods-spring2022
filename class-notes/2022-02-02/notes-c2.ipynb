{
 "cells": [
  {
   "cell_type": "markdown",
   "metadata": {
    "collapsed": true,
    "pycharm": {
     "name": "#%% md\n"
    }
   },
   "source": [
    "# Class Meeting 2\n",
    "### 2022-02-02"
   ]
  },
  {
   "cell_type": "markdown",
   "source": [
    "### Difference between lists and arrays\n",
    "\n",
    "* The lengths of lists can change the length of arrays are fixed.\n",
    "* The elements of an array must all be the same type, elements in the list can be different types.\n",
    "* Arrays can be two-dimensional like matrices, or of higher dimensionality. Lists can be lists of lists and even lists of lists of lists. These can contain the same data, but are accessed differently.\n",
    "* Arrays behave like vectors and matrices with respect to arithmetic, lists in general do not.\n",
    "* Array operations are much faster than lists."
   ],
   "metadata": {
    "collapsed": false
   }
  },
  {
   "cell_type": "markdown",
   "source": [
    "### Check where the code is running\n",
    "\n",
    "For Python scripts it is nice to add a check that you are actually trying to run this code as a script and not for example in a notebok.\n",
    "\n",
    "This can be done with the following code:\n",
    "\n",
    "\n",
    "```python\n",
    "if __name__ == \"__main__\":\n",
    "    main()\n",
    "```\n",
    "\n",
    "This checks that the code is being run from the command line, in which case ```__name__``` will be set to ```__main__```. So if that is true it will execute what follows, but if not then it won't."
   ],
   "metadata": {
    "collapsed": false,
    "pycharm": {
     "name": "#%% md\n"
    }
   }
  },
  {
   "cell_type": "markdown",
   "source": [
    "### Argparse\n",
    "\n",
    "* The argparse package works like this:\n",
    "- First you have to create a parser\n",
    "- Then you add arguments to it\n",
    "- Finally you call the parse_arg() function, and it returns your arguments.\n",
    "\n",
    "* One of the key reasons to use argparse is that you can give a line of explanation for the argument.\n",
    "\n",
    "```python\n",
    "import argparse\n",
    "parser = argparse.ArgumentParser(description=\"Do Something.\")\n",
    "parser.add_argument('h', type=float, help='height of the object above ground')\n",
    "parser.add_argument('N, type=int, help='Number of bins for integration')\n",
    "parser.add_argument('--simp', default=False, help='Use Simpson's Rule', action=\"store_true\")\n",
    "\n",
    "args=parser.parse_args()\n",
    "print(args.h, args.N, args.simp)\n",
    "```"
   ],
   "metadata": {
    "collapsed": false,
    "pycharm": {
     "name": "#%% md\n"
    }
   }
  },
  {
   "cell_type": "markdown",
   "source": [
    "### Version Control\n",
    "\n",
    "* A way to keep tack of changes to your code.\n",
    "* Also, a way to collaborate on writing code with others.\n",
    "* Many implementations though git is becoming the most common one.\n",
    "* Also, can be combined with a website to allow easy access to others, even people you don't know.\n",
    "* Widely used in open source programming.\n",
    "\n",
    "Files are kept in what is called a repository."
   ],
   "metadata": {
    "collapsed": false
   }
  }
 ],
 "metadata": {
  "kernelspec": {
   "display_name": "Python 3",
   "language": "python",
   "name": "python3"
  },
  "language_info": {
   "codemirror_mode": {
    "name": "ipython",
    "version": 2
   },
   "file_extension": ".py",
   "mimetype": "text/x-python",
   "name": "python",
   "nbconvert_exporter": "python",
   "pygments_lexer": "ipython2",
   "version": "2.7.6"
  }
 },
 "nbformat": 4,
 "nbformat_minor": 0
}