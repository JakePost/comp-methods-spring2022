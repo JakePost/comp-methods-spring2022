{
 "cells": [
  {
   "cell_type": "markdown",
   "metadata": {
    "collapsed": true,
    "pycharm": {
     "name": "#%% md\n"
    }
   },
   "source": [
    "# Class Meeting 5\n",
    "### 2022-02-14"
   ]
  },
  {
   "cell_type": "markdown",
   "source": [
    "## Taylor's Theorem\n",
    "\n",
    "$f(a) = \\sum^{\\inf}_{n=0} {d^n \\over dx^2}{(x-a)^n \\over n!}$\n",
    "\n",
    "## Order of Accuracy\n",
    "\n",
    "$\\epsilon = \\frac{1}{12}h^2|f'(a) - f'(b)|$\n",
    "<br>\n",
    "\n",
    "The equation for the error tells us that the trapezoidal rule is a *first-order* integration scheme. It is accurate to terms involving h and the first term of its error is $h^2$.\n",
    "\n",
    "If we do a similar analysis for the Simpson's rule we would find the first term in the error is given by <br>\n",
    "$\\epsilon = \\frac{1}{90}h^5|f'''(a) - f'''(b)|$\n",
    "\n",
    "The Simpson's method is a *third-order* integration method. It is accurate to terms involving $h^3$ and the first term of the error is $h^4$.\n",
    "\n",
    "## Practical Estimation of Errors\n",
    "\n",
    "Our estimates of the error in our integration schemes depend on knowing the derivatives at a and b. However, often we will want to integrate values which may not be a mathematical function.\n",
    "\n",
    "In this case we can estimate the error by evaluating the integral with a certain number of steps $N_1$ and step size $h_1$. And then evaluating the integral again with say double the number of steps $N_2 = 2N_1$ and half the step size $H_2 = {1\\over2} h_1$.\n",
    "\n",
    "If the numerical value of the integral is I, and the difference between the true value and numerical value is $ch^2$, we will have <br><br>\n",
    "\n",
    "$I_1 + ch^2_1 = I_2 + ch^2_2 \\Rightarrow I_2 - I_1 = ch^2_1 - ch^2_2 = 3ch^2_2$\n",
    "\n",
    "The error on the second integration of the trapezoid would be $\\epsilon_1 = \\frac{1}{3}|I_2-I_1|$.\n",
    "Similarly, for the Simpson's method we would get $\\epsilon_1 = \\frac{1}{15}|I_2-I_1|$."
   ],
   "metadata": {
    "collapsed": false,
    "pycharm": {
     "name": "#%% md\n"
    }
   }
  },
  {
   "cell_type": "code",
   "source": [
    "# Exercise 5.6\n",
    "# Modify your program that calculates the integral of x^4-2x+1 so that it can estimate the error with 20 steps.\n",
    "# To do this you'll have to run it with 10 steps and then 20 steps.\n",
    "\n",
    "import numpy as np\n",
    "\n",
    "def trapezoidal(f, n, a, b):\n",
    "    h = (b - a) / n\n",
    "    sum_part = sum(f(a + k * h) for k in range(1, n))\n",
    "\n",
    "    return h * (f(a) / 2 + f(b) / 2 + sum_part)\n",
    "\n",
    "\n",
    "def func(x):\n",
    "    return (x ** 4) - (2 * x) + 1\n",
    "\n",
    "\n",
    "i_1 = trapezoidal(func, 10, 0, 2)\n",
    "i_2 = trapezoidal(func, 20, 0, 2)\n",
    "\n",
    "print(i_1)\n",
    "print(i_2)\n",
    "print(np.abs(i_2 - i_1) / 3)"
   ],
   "metadata": {
    "collapsed": false,
    "pycharm": {
     "name": "#%%\n"
    }
   },
   "execution_count": 11,
   "outputs": [
    {
     "name": "stdout",
     "output_type": "stream",
     "text": [
      "4.50656\n",
      "4.426660000000001\n",
      "0.026633333333333137\n"
     ]
    }
   ]
  },
  {
   "cell_type": "markdown",
   "source": [
    "### Number of steps\n",
    "\n",
    "How do we decide the number of steps to take in evaluating our integral?\n",
    "\n",
    "If we take h to be very small we can make the approximation error very small.\n",
    "\n",
    "But if h becomes too small, then round off error begins to grow. We can even choose h so small that when we add the next step to our sum it doesn't actually increase it.\n",
    "\n",
    "Clearly decreasing h is of no help once the approximation error is of order the rounding error For the trapezoidal rule: <br><br>\n",
    "\n",
    "$\\frac{1}{12}h^2[f'(a)-f'(b)] \\approx C\\int_a^bf(x)\\,dx$\n",
    "<br><br>\n",
    "\n",
    "### Adaptive Integration\n",
    "\n",
    "Going to machine precision can take a long time if you are evaluating many integrals and is rarely the accuracy you actually need.\n",
    "\n",
    "Another choixe is to estimate the accuracy by running two values of the number of steps and then continue increasing N until you get the desired accuracy.\n",
    "\n",
    "If we double the number of steps then we don't actually need to evaluate each of those steps because half of them were in the previous calculations.\n",
    "\n",
    "This is called nested steps and makes adaptive integration only take about as long as the final number of the steps you end up using."
   ],
   "metadata": {
    "collapsed": false,
    "pycharm": {
     "name": "#%% md\n"
    }
   }
  },
  {
   "cell_type": "code",
   "execution_count": null,
   "outputs": [],
   "source": [],
   "metadata": {
    "collapsed": false,
    "pycharm": {
     "name": "#%%\n"
    }
   }
  }
 ],
 "metadata": {
  "kernelspec": {
   "display_name": "Python 3",
   "language": "python",
   "name": "python3"
  },
  "language_info": {
   "codemirror_mode": {
    "name": "ipython",
    "version": 2
   },
   "file_extension": ".py",
   "mimetype": "text/x-python",
   "name": "python",
   "nbconvert_exporter": "python",
   "pygments_lexer": "ipython2",
   "version": "2.7.6"
  }
 },
 "nbformat": 4,
 "nbformat_minor": 0
}