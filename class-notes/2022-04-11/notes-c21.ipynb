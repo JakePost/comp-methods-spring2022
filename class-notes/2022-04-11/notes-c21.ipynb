{
 "cells": [
  {
   "cell_type": "markdown",
   "metadata": {
    "collapsed": true,
    "pycharm": {
     "name": "#%% md\n"
    }
   },
   "source": [
    "# Class Meeting 21\n",
    "### 2022-04-11"
   ]
  },
  {
   "cell_type": "markdown",
   "source": [
    "## Modified Midpoint Method\n",
    "\n",
    "The leap frog method offers another advantage, the total error after summing all steps is an even function of the step size h.\n",
    "\\\n",
    "$\\epsilon (h) = - \\epsilon (-h)$\n",
    "\n",
    "Since the leapfrog method is time symmetric that means if we go as step forward and then back the error should be the same but opposite in sign.\n",
    "\n",
    "This it must be an odd function, so only containing odd terms in h.\n",
    "\\\n",
    "$\\epsilon (h) c_3h^3 + c_5h^5 + c_7h^7 + ... $\n",
    "\n",
    "Now when we sum up over many steps we lose a power of h so the error should contain only even terms in h starting with $h^2$. The one problem with this is the first step we took which uses Euler's method and this has odd powers of h.\n",
    "\n",
    "To solve this problem we can use what is called \"Gragg's Method\" or more commonly, the modified midpoint method.\n",
    "\n",
    "Let us assume we want to solve our differential equation from some time t to t+H where H is not small.\n",
    "\n",
    "## Burlisch-Stoer Method\n",
    "\n",
    "The modified midpoint method is rarely used alone since it doesn't do anything better than the leapfrog method. However, combined with Richardson extrapolation, it becomes the powerful Burlisch-Stoer method.\n",
    "\n"
   ],
   "metadata": {
    "collapsed": false,
    "pycharm": {
     "name": "#%% md\n"
    }
   }
  },
  {
   "cell_type": "code",
   "execution_count": null,
   "outputs": [],
   "source": [],
   "metadata": {
    "collapsed": false,
    "pycharm": {
     "name": "#%%\n"
    }
   }
  }
 ],
 "metadata": {
  "kernelspec": {
   "display_name": "Python 3",
   "language": "python",
   "name": "python3"
  },
  "language_info": {
   "codemirror_mode": {
    "name": "ipython",
    "version": 2
   },
   "file_extension": ".py",
   "mimetype": "text/x-python",
   "name": "python",
   "nbconvert_exporter": "python",
   "pygments_lexer": "ipython2",
   "version": "2.7.6"
  }
 },
 "nbformat": 4,
 "nbformat_minor": 0
}