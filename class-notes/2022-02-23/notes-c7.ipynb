{
 "cells": [
  {
   "cell_type": "markdown",
   "metadata": {
    "collapsed": true,
    "pycharm": {
     "name": "#%% md\n"
    }
   },
   "source": [
    "# Class Meeting 7\n",
    "### 2022-02-16"
   ]
  },
  {
   "cell_type": "markdown",
   "source": [],
   "metadata": {
    "collapsed": false
   }
  },
  {
   "cell_type": "markdown",
   "source": [
    "## Infinite Range Intervals\n",
    "\n",
    "So far we have discussed integration between two points (a and b), but what if we want to evaluate in integral between 0 and infinity.\n",
    "\n",
    "In this case, dividing the space by N will not help. Either each step will be infinitely large, or if we chose a finite h we will need an infinite number of steps to evaluate the integral.\n",
    "\n",
    "The deal with integrals over an infinite range we use a change of variables to make the range finite. A common choice is:\n",
    "\n",
    "<br>\n",
    "$x=\\frac{z}{z-1}$ $\\int_0^{\\infty} f(x) \\,dx = \\int_0^1 \\frac{1}{(z-1)^2} f(\\frac{z}{1-z}) \\,dz$\n",
    "<br>\n",
    "\n",
    "There are many substitutions possible, some will work better than others.\n",
    "\n",
    "<br>\n",
    "$z=\\frac{x}{c+x}$\n",
    "<br>\n",
    "$z={x^\\gamma}{1+x^\\gamma}$\n",
    "<br>\n",
    "$x=tanx$\n",
    "<br>\n",
    "\n",
    "The integral can also be broke  up into pieces. For example an integral from minus infinity to infinity is the sum of two integrals one from minus infinity to zero and the other from zero the infinity.\n",
    "\n",
    "So far we have only discussed integration over one variable, but in physics we often have integrals over multiple variables. If we have an integral $\\int_0^1 \\int_0^1 f(x,y) \\,dx\\,dy$ one way to solve it is to define a function F(y) where $F(y) = \\int_0^1 f(x,y) \\,dx$ and $I=\\int_0^1 F(y)dy$.\n",
    "\n",
    "So this way we would choose certain y values to use in evaluating our integral and then numerically determin those values by numerical integration over x to get F(y)."
   ],
   "metadata": {
    "collapsed": false
   }
  },
  {
   "cell_type": "markdown",
   "source": [
    "### Multiple Integration\n",
    "\n",
    "If we were using quadrature we could end up with a point distribution like the following.\n",
    "\n",
    "However, there is no more reason to have an evenly spaced grid in 2D than there was to have evenly spaced steps in 1D.\n",
    "\n",
    "A number of schemes for choosing points in higher dimensions exists, but there is no  best known solution.\n",
    "\n",
    "One distribution is called the sobol sequence and is one choice that seems to give a good results in higher dimensions.\n",
    "\n",
    "Another approach is to just choose the point randomly. This is called Monte Carlo integrating, and we will discuss it later in the term.\n",
    "\n",
    "In higher dimensions you can get all kinds of strange volumes to integrate over.\n",
    "\n",
    "This can cause problems and there are various techniques to try and address them.\n",
    "\n",
    "One choice, as mentioned, is Monte Carlo integration where points are selected randomly.\n",
    "\n",
    "Others we won't go in to, but if you have a case of multiple integration over a volume that seems complicated be aware that straightforward applications of a grid may not be a very efficient method for evaluating the integral."
   ],
   "metadata": {
    "collapsed": false
   }
  },
  {
   "cell_type": "markdown",
   "source": [
    "## Differentiation\n",
    "\n",
    "Derivatives are as important in physics as integrals, but you will hear much less about numerical derivatives than integrals for a number a reasons.\n",
    "\n",
    "The basic technique for numerical differentiation is quire simple.\n",
    "\n",
    "Derivatives of known functions can always be calcualted analytically, so there is less need to use numerical methods.\n",
    "\n",
    "### Forward and backward Differences\n",
    "\n",
    "The basic method for calculating derivatives is the straightforward approcimation of the standard derivative formula.\n",
    "<br>\n",
    "$\\frac{df}{dx} = \\frac{f(x+h)-f(x)}{h}$\n",
    "<br>\n",
    "\n",
    "This is called the forward differences since x+h is greater than x.\n",
    "\n",
    "### Errors\n",
    "\n",
    "In order to decide how to choose h we will need to understand the errors in our evaluation.\n",
    "\n",
    "For derivatives, rounding error and approximation errors are likely to both contribute to our error. To determine the approximation error let us Taylor expands around f(x+h).\n",
    "<br>\n",
    "$f(x+h) = f(x) + hf'(x) + \\frac{1}{2} h^2 f''(x) + O(h^3)$\n",
    "<br>\n"
   ],
   "metadata": {
    "collapsed": false
   }
  },
  {
   "cell_type": "code",
   "execution_count": 35,
   "outputs": [
    {
     "data": {
      "text/plain": "<Figure size 432x432 with 1 Axes>",
      "image/png": "[encoded data removed]"
     },
     "metadata": {
      "needs_background": "light"
     },
     "output_type": "display_data"
    }
   ],
   "source": [
    "# Exercise 5.15\n",
    "\n",
    "import numpy as np\n",
    "import matplotlib.pyplot as plt\n",
    "\n",
    "a = -2\n",
    "b = 2\n",
    "d = b - a\n",
    "h = 10E-5\n",
    "\n",
    "def func(x):\n",
    "    return 1 + 1 / 2 * np.tanh(2 * x)\n",
    "\n",
    "def der(x, f):\n",
    "    return x, (f(x + h / 2) - f(x - h/2)) / h\n",
    "\n",
    "def a_der(x):\n",
    "    return x,  (1 / np.cosh(2 * x)) ** 2\n",
    "\n",
    "space = np.linspace(-2, 2)\n",
    "\n",
    "x_vals, y_vals = der(space, func)\n",
    "ax_vals, ay_vals = a_der(space)\n",
    "\n",
    "figure, axes = plt.subplots(1, 1, figsize=(6, 6))\n",
    "\n",
    "axes.set_title(\"Derivative\")\n",
    "axes.plot(x_vals, y_vals, c=\"r\")\n",
    "axes.scatter(ax_vals, ay_vals, linestyle=(1, (5, 5)), c='y')\n",
    "\n",
    "plt.show()"
   ],
   "metadata": {
    "collapsed": false,
    "pycharm": {
     "name": "#%%\n"
    }
   }
  },
  {
   "cell_type": "code",
   "execution_count": null,
   "outputs": [],
   "source": [],
   "metadata": {
    "collapsed": false,
    "pycharm": {
     "name": "#%%\n"
    }
   }
  }
 ],
 "metadata": {
  "kernelspec": {
   "display_name": "Python 3",
   "language": "python",
   "name": "python3"
  },
  "language_info": {
   "codemirror_mode": {
    "name": "ipython",
    "version": 2
   },
   "file_extension": ".py",
   "mimetype": "text/x-python",
   "name": "python",
   "nbconvert_exporter": "python",
   "pygments_lexer": "ipython2",
   "version": "2.7.6"
  }
 },
 "nbformat": 4,
 "nbformat_minor": 0
}