{
 "cells": [
  {
   "cell_type": "markdown",
   "metadata": {
    "collapsed": true,
    "pycharm": {
     "name": "#%% md\n"
    }
   },
   "source": [
    "# Class Meeting 9\n",
    "### 2022-03-02"
   ],
   "execution_count": 1
  },
  {
   "cell_type": "markdown",
   "source": [
    "## Gaussian Elimination Cont.\n",
    "\n",
    "### Pivoting\n",
    "\n",
    "If the first element of the first row is a zero, our current gaussian elimination method will break!\n",
    "\n",
    "The solution to this is simple, we can swap the first and second rows of the matrix and vector.\n",
    "\n",
    "\n",
    "### LU Decomposition\n",
    "\n",
    "While gaussian elimination is a perfectly fine method of solving systems of linear equations, it is commonly used in a different for in physics calculations.\n",
    "\n",
    "That is because in physics, we will often want to solve Ax=v for the same A, but many v. In that case it is wasteful to perform the Gaussian elimination each time, the matrix A will be the same every time."
   ],
   "metadata": {
    "collapsed": false,
    "pycharm": {
     "name": "#%% md\n"
    }
   }
  },
  {
   "cell_type": "code",
   "execution_count": 7,
   "outputs": [
    {
     "data": {
      "text/plain": "array([3.        , 1.66666667, 3.33333333, 2.        ])"
     },
     "execution_count": 7,
     "metadata": {},
     "output_type": "execute_result"
    }
   ],
   "source": [
    "import numpy as np\n",
    "\n",
    "matrix = np.array([[4, -1, -1, -1],\n",
    "                    [-1, 3, 0, -1],\n",
    "                    [-1, 0, 3, -1],\n",
    "                    [-1, -1, -1, 4]])\n",
    "\n",
    "vector = [5, 0, 5, 0]\n",
    "\n",
    "np.linalg.solve(matrix, vector)"
   ],
   "metadata": {
    "collapsed": false,
    "pycharm": {
     "name": "#%%\n"
    }
   }
  },
  {
   "cell_type": "markdown",
   "source": [
    "## Non-Linear Equations\n",
    "\n",
    "So far, we have focused on systems of linear equations. In these cases as long as we have as many equations as variables, we know they can always be solved.\n",
    "\n",
    "Nonlinear equations are much more difficult. Often there is no way to solve them analytically. Numerical solutions are often the only way to go.\n",
    "\n",
    "There are several methods, the first we will look at is called Relaxation\n",
    "\n",
    "### Relaxation Method\n",
    "\n",
    "Let's consider a single nonlinear eq with a single variable that we want ot solve. $x=2-e^{-x}$\n",
    "\n",
    "There is no known analytic method for solving this equation. The relaxation method is to simply iterate over guesses for x until the value 'relaxes' to a solution.\n",
    "\n",
    "So we can start with x=1, plugging that into the right side of hte equation gives x'=1.632. Then we plug in 1.632 into the right side of the equation which gives us x''=1.804\n",
    "\n",
    "If we keep doing this, we arrive at a solution x=1.8414056433. Plugging this into the right side and getting the same thing out means this is the solution to the equations (at least withing machine precision).\n",
    "\n",
    "This method is a simple and fast method for solving nonlinear equations; however, there can be problems with it.\n",
    "1. You have to be able to write the eq as x=f(x). If your eq isn't in this form, you can try to rearrange it, but if you can't do this, you can't use this method.\n",
    "2. The eq can have more than one solution. You can try finding other solutions by changing your initial starting guess. THis will work best if you have some idea of where you expect the solution to be.\n"
   ],
   "metadata": {
    "collapsed": false,
    "pycharm": {
     "name": "#%% md\n"
    }
   }
  },
  {
   "cell_type": "code",
   "execution_count": 22,
   "outputs": [
    {
     "name": "stdout",
     "output_type": "stream",
     "text": [
      "0.8646647167633873\n",
      "0.8225966691808597\n",
      "0.8070247503317746\n",
      "0.8009201942366403\n",
      "0.7984747083247583\n",
      "0.7974866394625985\n",
      "0.797086049491047\n",
      "0.796923413762181\n",
      "0.7968573480008734\n",
      "0.7968305046795713\n",
      "0.7968195968986895\n",
      "0.7968151643557075\n",
      "0.7968133630966887\n",
      "0.7968126311118457\n",
      "0.7968123336514794\n",
      "0.7968122127708882\n",
      "0.7968121636479626\n",
      "0.7968121436855996\n",
      "0.7968121355733799\n",
      "0.7968121322767707\n",
      "0.7968121309371088\n",
      "0.7968121303927027\n",
      "0.7968121301714692\n",
      "0.7968121300815654\n",
      "0.7968121300450306\n",
      "0.7968121300301837\n",
      "0.7968121300241503\n",
      "0.7968121300216985\n",
      "0.7968121300207021\n",
      "0.7968121300202972\n",
      "0.7968121300201326\n",
      "0.7968121300200658\n",
      "0.7968121300200386\n",
      "0.7968121300200276\n",
      "0.796812130020023\n",
      "0.7968121300200213\n",
      "0.7968121300200213\n"
     ]
    }
   ],
   "source": [
    "# Exercise 6.10\\\n",
    "\n",
    "c = 2\n",
    "\n",
    "def func(x):\n",
    "    return 1 - np.exp(-c * x)\n",
    "\n",
    "\n",
    "tolerance = 10E-16 # Machine precision allowing for 16 digits, solution must be less than 1\n",
    "current_val = 1\n",
    "\n",
    "while np.abs(current_val - func(current_val) > tolerance):\n",
    "    current_val = func(current_val)\n",
    "    print(current_val)\n",
    "\n",
    "print(current_val)"
   ],
   "metadata": {
    "collapsed": false,
    "pycharm": {
     "name": "#%%\n"
    }
   }
  },
  {
   "cell_type": "code",
   "execution_count": null,
   "outputs": [],
   "source": [],
   "metadata": {
    "collapsed": false,
    "pycharm": {
     "name": "#%%\n"
    }
   }
  }
 ],
 "metadata": {
  "kernelspec": {
   "display_name": "Python 3",
   "language": "python",
   "name": "python3"
  },
  "language_info": {
   "codemirror_mode": {
    "name": "ipython",
    "version": 2
   },
   "file_extension": ".py",
   "mimetype": "text/x-python",
   "name": "python",
   "nbconvert_exporter": "python",
   "pygments_lexer": "ipython2",
   "version": "2.7.6"
  }
 },
 "nbformat": 4,
 "nbformat_minor": 0
}