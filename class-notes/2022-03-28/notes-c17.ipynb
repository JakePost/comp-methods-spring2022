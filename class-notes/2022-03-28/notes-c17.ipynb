{
 "cells": [
  {
   "cell_type": "markdown",
   "metadata": {
    "collapsed": true,
    "pycharm": {
     "name": "#%% md\n"
    }
   },
   "source": [
    "# Class Meeting 16\n",
    "### 2022-03-23"
   ]
  },
  {
   "cell_type": "code",
   "execution_count": 24,
   "outputs": [],
   "source": [
    "import numpy as np\n",
    "import numpy.random as rand"
   ],
   "metadata": {
    "collapsed": false,
    "pycharm": {
     "name": "#%%\n"
    }
   }
  },
  {
   "cell_type": "code",
   "source": [
    "# Exercise 10.5\n",
    "\n",
    "rand.seed(3141592653)\n",
    "\n",
    "a = 2\n",
    "n = 10000\n",
    "\n",
    "def f(x):\n",
    "    return np.sin(1 / (x * (2 - x))) ** 2\n",
    "\n",
    "random_x = rand.random(n) * a\n",
    "random_y = rand.random(n)\n",
    "\n",
    "# count = np.sum([1 if point[1] < f(point[0]) else 0 for point in zip(random_x, random_y)])\n",
    "count = np.sum(random_y < f(random_x))\n",
    "\n",
    "i = count * a / n\n",
    "\n",
    "print(\"I:\", i)\n",
    "\n",
    "sigma_k = np.sqrt((i * (a - i)) / n)\n",
    "\n",
    "print(\"Sigma K:\", sigma_k)"
   ],
   "metadata": {
    "collapsed": false,
    "pycharm": {
     "name": "#%%\n"
    }
   },
   "execution_count": 45,
   "outputs": [
    {
     "name": "stdout",
     "output_type": "stream",
     "text": [
      "I: 1.4624\n",
      "Sigma K: 0.008866714385836503\n"
     ]
    }
   ]
  },
  {
   "cell_type": "code",
   "execution_count": 65,
   "outputs": [
    {
     "name": "stdout",
     "output_type": "stream",
     "text": [
      "2545\n",
      "2.60608\n"
     ]
    }
   ],
   "source": [
    "# Exercise 10.7 Volume of a Hypersphere\n",
    "\n",
    "rand.seed(3141592653)\n",
    "\n",
    "nc = 1000000\n",
    "\n",
    "random_dim = [(rand.random(nc) * 2) - 1 for i in range(10)]\n",
    "\n",
    "count = 0\n",
    "\n",
    "for i in range(nc):\n",
    "    r = np.sum([random_dim[dim][i] ** 2 for dim in range(10)])\n",
    "\n",
    "    if r <= 1:\n",
    "        count += 1\n",
    "\n",
    "print(count)\n",
    "\n",
    "ic = ((2 ** 10) / nc) * count\n",
    "\n",
    "print(ic)"
   ],
   "metadata": {
    "collapsed": false,
    "pycharm": {
     "name": "#%%\n"
    }
   }
  },
  {
   "cell_type": "code",
   "execution_count": null,
   "outputs": [],
   "source": [],
   "metadata": {
    "collapsed": false,
    "pycharm": {
     "name": "#%%\n"
    }
   }
  }
 ],
 "metadata": {
  "kernelspec": {
   "display_name": "Python 3",
   "language": "python",
   "name": "python3"
  },
  "language_info": {
   "codemirror_mode": {
    "name": "ipython",
    "version": 2
   },
   "file_extension": ".py",
   "mimetype": "text/x-python",
   "name": "python",
   "nbconvert_exporter": "python",
   "pygments_lexer": "ipython2",
   "version": "2.7.6"
  }
 },
 "nbformat": 4,
 "nbformat_minor": 0
}