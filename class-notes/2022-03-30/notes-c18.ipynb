{
 "cells": [
  {
   "cell_type": "markdown",
   "metadata": {
    "collapsed": true,
    "pycharm": {
     "name": "#%% md\n"
    }
   },
   "source": [
    "# Class Meeting 18\n",
    "### 2022-03-23"
   ]
  },
  {
   "cell_type": "markdown",
   "source": [
    "## Statistical Mechanics\n",
    "\n",
    "Importance sampling isn't just a fancy trick for Monte Carlo integration, it plays an *important* role in many other problems.\n",
    "\n",
    "Statistical mechanics is the branch of physics most closely aligned with Monte Carlo techniques. This is because statistical mechanics is always looking at random processes.\n",
    "\n",
    "Let's consider the fundamental problem of statistical mechanics, calculating the average (or expectation) value of quantity in a physical system in thermal equilibrium. If the system is at a temperature T then it will not be in one state, but will randomly move between different states where the probability of being is any state is defined by a function.\n",
    "\n",
    "In some cases, we can calculate this sum exactly, but often not. So this is a good problem for numerical approaches. Normally, we can't simply evaluate the sum numerically either. For example there are $10^{23}$ molecules in a single mole of gas. If the molecules each had only two possible quantum states, then the number of states in this system would be $2^{10^{23}}$ which is an insanely large number.\n",
    "\n",
    "So let's try Monte Carlo, instead of evaluating all states. We can randomly sample N states and as N gets larger we will get closer to the correct value.\n",
    "\n",
    "Unfortunately, this will not work for most situations. The Boltzman probability is exponential, so tbe vast majority of states of exponentially small probability. Thus, most of our randomly chosen energies contribute almost nothing to the sum.\n",
    "\n",
    "But, as we've discussed, a method to overcome this problem is importance sampling. If we weigh each energy we choose randomly, then we can get the important once in our sum.\n"
   ],
   "metadata": {
    "collapsed": false,
    "pycharm": {
     "name": "#%% md\n"
    }
   }
  },
  {
   "cell_type": "code",
   "execution_count": null,
   "outputs": [],
   "source": [],
   "metadata": {
    "collapsed": false,
    "pycharm": {
     "name": "#%%\n"
    }
   }
  }
 ],
 "metadata": {
  "kernelspec": {
   "display_name": "Python 3",
   "language": "python",
   "name": "python3"
  },
  "language_info": {
   "codemirror_mode": {
    "name": "ipython",
    "version": 2
   },
   "file_extension": ".py",
   "mimetype": "text/x-python",
   "name": "python",
   "nbconvert_exporter": "python",
   "pygments_lexer": "ipython2",
   "version": "2.7.6"
  }
 },
 "nbformat": 4,
 "nbformat_minor": 0
}