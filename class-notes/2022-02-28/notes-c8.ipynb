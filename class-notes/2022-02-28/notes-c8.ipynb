{
 "cells": [
  {
   "cell_type": "markdown",
   "metadata": {
    "collapsed": true,
    "pycharm": {
     "name": "#%% md\n"
    }
   },
   "source": [
    "# Class Meeting 8\n",
    "### 2022-02-28"
   ]
  },
  {
   "cell_type": "markdown",
   "source": [
    "## Interpolation\n",
    "\n",
    "The approximation of the value of a function for points in between the value that we do know.\n",
    "\n",
    "Fitting a function sounds very familiar; however, they are trying to achieve different things.\n",
    "\n",
    "* _Interpolation_ seeks to fill in the information in some small region of a dataset.\n",
    "* _Fitting a function_ attempts to find a model that fits our data to give us some better understanding of the nature of the data.\n",
    "\n",
    "### Linear Interpolation\n",
    "\n",
    "Take the two points closest to where you want to interpolate, fit a line to them and then from the equation for that line you have the value of your previously unknown point\n",
    "\n",
    "Note that you point doesn't need to lie between the two points, though the farther away it is the worst your interpolation is likely to be.\n",
    "\n",
    "It can be shown that the error in your interpolation $\\Delta f(x)$ goes like\n",
    "<br>\n",
    "$\\Delta f(x) = \\frac{1}{2} f'' (x) (x-x_i)(x-x_{i+1})$\n",
    "<br>\n",
    "\n",
    "The interpolated value will have some error from the correct value.\n",
    "\n",
    "The closer x is to a and b, the better the interpolation will be.\n",
    "\n",
    "### Quadratic Interpolation\n",
    "\n",
    "Next we can fit a quadratic to three points an duse that for the interpolation.\n",
    "\n",
    "One thing that happens with a quadratic is that our interpolated value can be outside the range of the points we use to generate it. f(x) can be larger or smaller than f(x_k-1), f(x_k) and f(x_k+1).\n",
    "\n",
    "This overshooting or undershooting can cause problems if it gives nonphysical answers, That is if the values should only lie in some range.\n",
    "\n",
    "This is one problem with higher order interpolation.\n",
    "\n",
    "### Lagrange Interpolation\n",
    "\n",
    "We can use Lagrange interpolation like we saw when discussing Gaussian quadrature. That is using the interpolating polynomial.\n",
    "\n",
    "#### Runge Phenomena\n",
    "\n",
    "You'll notice that at some point as the number of points increases, the error actually increases.\n",
    "\n",
    "This is an example of the runge phenomena:\n",
    "* Oscillation becomes large at the end of the interval with polynomial interpolation.\n",
    "\n",
    "One can do better with variable spacing. The problem is that you have very little information at the end points to constrain the fit. Thus, high order polynomials will tend to trade wild oscillations at the end points for better fits to the middle points.\n",
    "\n",
    "### Splines\n",
    "\n",
    "Another way to do interpolation is to match the derivative of the function at the end points. This is called a spline.\n",
    "\n",
    "The most common one used is a cubic spline that matches the first and second derivative at each data point.\n",
    "\n",
    "This results in a smooth appearance and avoids the severe oscillations of higher order polynomials.\n",
    "\n",
    "The goal here is not to fit a large number of points,  bu tto combine a number of different fits so that they pass through the points and their derivatives match where they connect.\n",
    "\n",
    "Splines do not provide a functional fit to the entire dataset.\n",
    "\n",
    "Not a good representation of reality since splines use multiple functions between several points.\n"
   ],
   "metadata": {
    "collapsed": false,
    "pycharm": {
     "name": "#%% md\n"
    }
   }
  },
  {
   "cell_type": "code",
   "execution_count": 1,
   "outputs": [
    {
     "name": "stdout",
     "output_type": "stream",
     "text": [
      "[[ 4 -1 -1 -1  5]\n",
      " [-1  3  0 -1  0]\n",
      " [-1  0  3 -1  5]\n",
      " [-1 -1 -1  4  0]]\n",
      "[[1 0 0 0 1]\n",
      " [0 1 0 0 0]\n",
      " [0 0 1 0 2]\n",
      " [0 0 0 1 0]]\n"
     ]
    }
   ],
   "source": [
    "import numpy as np\n",
    "\n",
    "matrix = np.matrix([[4, -1, -1, -1, 5],\n",
    "                    [-1, 3, 0, -1, 0],\n",
    "                    [-1, 0, 3, -1, 5],\n",
    "                    [-1, -1, -1, 4, 0]])\n",
    "\n",
    "\n",
    "\n",
    "def upper_triangle(a):\n",
    "    print(a)\n",
    "    \n",
    "    a[0] = a[0] / a[0,0]\n",
    "    a[1] = a[1] - a[0] * a[1,0]\n",
    "    a[2] = a[2] - a[0] * a[2,0]\n",
    "    a[3] = a[3] - a[0] * a[3,0]\n",
    "\n",
    "    a[1] = a[1] / a[1, 1]\n",
    "    a[2] = a[2] - a[1] * a[2,1]\n",
    "    a[3] = a[3] - a[1] * a[3,1]\n",
    "\n",
    "    a[2] = a[2] / a[2, 2]\n",
    "    a[3] = a[3] - a[2] * a[3,2]\n",
    "\n",
    "    a[3] = a[3] / a[3, 3]\n",
    "\n",
    "    print(a)\n",
    "\n",
    "upper_triangle(matrix)"
   ],
   "metadata": {
    "collapsed": false,
    "pycharm": {
     "name": "#%%\n"
    }
   }
  },
  {
   "cell_type": "code",
   "execution_count": null,
   "outputs": [],
   "source": [],
   "metadata": {
    "collapsed": false,
    "pycharm": {
     "name": "#%%\n"
    }
   }
  }
 ],
 "metadata": {
  "kernelspec": {
   "display_name": "Python 3",
   "language": "python",
   "name": "python3"
  },
  "language_info": {
   "codemirror_mode": {
    "name": "ipython",
    "version": 2
   },
   "file_extension": ".py",
   "mimetype": "text/x-python",
   "name": "python",
   "nbconvert_exporter": "python",
   "pygments_lexer": "ipython2",
   "version": "2.7.6"
  }
 },
 "nbformat": 4,
 "nbformat_minor": 0
}